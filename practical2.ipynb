{
 "cells": [
  {
   "cell_type": "code",
   "execution_count": null,
   "metadata": {},
   "outputs": [
    {
     "name": "stderr",
     "output_type": "stream",
     "text": [
      "DEPRECATION: Loading egg at c:\\users\\avnee\\python37\\lib\\site-packages\\vboxapi-1.0-py3.11.egg is deprecated. pip 25.1 will enforce this behaviour change. A possible replacement is to use pip for package installation. Discussion can be found at https://github.com/pypa/pip/issues/12330\n"
     ]
    },
    {
     "name": "stdout",
     "output_type": "stream",
     "text": [
      "Requirement already satisfied: numpy in c:\\users\\avnee\\python37\\lib\\site-packages (1.26.4)\n",
      "Note: you may need to restart the kernel to use updated packages.\n",
      "1D Array: [1 2 3 4 5]\n",
      "\n",
      "2D Array:\n",
      " [[ 3  6  9]\n",
      " [12 15 18]]\n",
      "\n",
      "3D Array:\n",
      " [[[ 1  2]\n",
      "  [ 3  4]]\n",
      "\n",
      " [[ 5  6]\n",
      "  [ 7  8]]\n",
      "\n",
      " [[ 9 10]\n",
      "  [11 12]]]\n"
     ]
    }
   ],
   "source": [
    "\n",
    "import numpy as np\n",
    "\n",
    "# 1. Create a numpy array of 1d, 2d, 3d\n",
    "arr = np.array([1, 2, 3, 4, 5])\n",
    "arr2 = np.arange(3,19,3)\n",
    "arr2 = arr2.reshape(2,3)\n",
    "arr3 = np.arange(1,13)\n",
    "arr3 = arr3.reshape(3,2,2)\n",
    "\n",
    "# Print results\n",
    "print(\"1D Array:\", arr)\n",
    "print(\"\\n2D Array:\\n\", arr2)\n",
    "print(\"\\n3D Array:\\n\", arr3)"
   ]
  },
  {
   "cell_type": "code",
   "execution_count": null,
   "metadata": {},
   "outputs": [
    {
     "name": "stdout",
     "output_type": "stream",
     "text": [
      "Accessed Element from 1D Array: 3\n",
      "Accessed Element from 2D Array: 18\n",
      "Accessed Element from 3D Array: 6\n"
     ]
    }
   ],
   "source": [
    "# 2. Access elements of all the three arrays created\n",
    "ele1 = arr[2]\n",
    "ele2 = arr2[1,2] \n",
    "ele3 = arr3[1, 0, 1]\n",
    "\n",
    "print(\"Accessed Element from 1D Array:\", ele1)\n",
    "print(\"Accessed Element from 2D Array:\", ele2)\n",
    "print(\"Accessed Element from 3D Array:\", ele3)"
   ]
  },
  {
   "cell_type": "code",
   "execution_count": null,
   "metadata": {},
   "outputs": [
    {
     "name": "stdout",
     "output_type": "stream",
     "text": [
      "Sliced 1D Array: [2 3 4]\n",
      "\n",
      "Sliced 2D Array:\n",
      " [[ 6  9]\n",
      " [15 18]]\n",
      "\n",
      "Sliced 3D Array:\n",
      " [[ 3  4]\n",
      " [ 7  8]\n",
      " [11 12]]\n",
      "\n",
      "Reshaped 1D Array from 3D Array: [ 1  2  3  4  5  6  7  8  9 10 11 12]\n"
     ]
    }
   ],
   "source": [
    "# 3. Perform array slicing\n",
    "slice1 = arr[1:4]\n",
    "slice2 = arr2[:, 1:3]\n",
    "slice3 = arr3[:, 1, :]\n",
    "\n",
    "# 4. Reshape 3d array to a 1d array\n",
    "reshaped_1d = arr3.reshape(-1)\n",
    "\n",
    "print(\"Sliced 1D Array:\", slice1)\n",
    "print(\"\\nSliced 2D Array:\\n\", slice2)\n",
    "print(\"\\nSliced 3D Array:\\n\", slice\n",
    "      3)\n",
    "print(\"\\nReshaped 1D Array from 3D Array:\", reshaped_1d)\n"
   ]
  },
  {
   "cell_type": "code",
   "execution_count": null,
   "metadata": {},
   "outputs": [
    {
     "name": "stdout",
     "output_type": "stream",
     "text": [
      "Sum Array: [11 12 13 14 15]\n",
      "\n",
      "Product Array:\n",
      " [[ 6 12 18]\n",
      " [24 30 36]]\n"
     ]
    }
   ],
   "source": [
    "# 5. Perform array arithmetic operations\n",
    "sum_array = arr + 10  \n",
    "product_array = arr2 * 2  \n",
    "\n",
    "print(\"Sum Array:\", sum_array)\n",
    "print(\"\\nProduct Array:\\n\", product_array)\n"
   ]
  },
  {
   "cell_type": "code",
   "execution_count": null,
   "metadata": {},
   "outputs": [
    {
     "name": "stdout",
     "output_type": "stream",
     "text": [
      "Sorted 1D Array: [1 2 3 4 5]\n",
      "\n",
      "Sorted 2D Array:\n",
      " [[ 3  6  9]\n",
      " [12 15 18]]\n",
      "\n",
      "Matrix Product using n-d array:\n",
      " [[ 5 12]\n",
      " [21 32]]\n",
      "\n",
      "Matrix Product using matrix class:\n",
      " [[19 22]\n",
      " [43 50]]\n"
     ]
    }
   ],
   "source": [
    "# 6. Sort the array\n",
    "sorted_arr = np.sort(arr)\n",
    "sorted_arr2 = np.sort(arr2, axis=None).reshape(arr2.shape)\n",
    "\n",
    "# 7. Perform matrix multiplication using n-d array and matrix class\n",
    "matrix_a = np.array([[1, 2], [3, 4]])\n",
    "matrix_b = np.array([[5, 6], [7, 8]])\n",
    "matrix_product_ndarray = np.multiply(matrix_a, matrix_b)  # Using n-d array\n",
    "matrix_product_matrix = np.matmul(matrix_a, matrix_b)  # Using matrix class\n",
    "\n",
    "print(\"Sorted 1D Array:\", sorted_arr)\n",
    "print(\"\\nSorted 2D Array:\\n\", sorted_arr2)\n",
    "print(\"\\nMatrix Product using n-d array:\\n\", matrix_product_ndarray)\n",
    "print(\"\\nMatrix Product using matrix class:\\n\", matrix_product_matrix)"
   ]
  }
 ],
 "metadata": {
  "kernelspec": {
   "display_name": "Python 3",
   "language": "python",
   "name": "python3"
  },
  "language_info": {
   "codemirror_mode": {
    "name": "ipython",
    "version": 3
   },
   "file_extension": ".py",
   "mimetype": "text/x-python",
   "name": "python",
   "nbconvert_exporter": "python",
   "pygments_lexer": "ipython3",
   "version": "3.11.4"
  }
 },
 "nbformat": 4,
 "nbformat_minor": 2
}
